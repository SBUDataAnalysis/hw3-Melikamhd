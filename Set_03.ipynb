{
  "cells": [
    {
      "cell_type": "code",
      "execution_count": 1,
      "id": "b031e468",
      "metadata": {
        "id": "b031e468"
      },
      "outputs": [],
      "source": [
        "import numpy as np\n",
        "import pandas as pd\n",
        "import math\n",
        "import scipy\n",
        "import matplotlib.pyplot as plt\n",
        "from scipy import stats\n",
        "import seaborn as sns\n",
        "import scipy.integrate as integrate\n"
      ]
    },
    {
      "cell_type": "markdown",
      "id": "38f35f8c",
      "metadata": {
        "id": "38f35f8c"
      },
      "source": [
        "# Q1: Coin toss\n",
        "\n",
        "Read section 2.1 of Sivia and recreate figure 2.3."
      ]
    },
    {
      "cell_type": "code",
      "source": [
        "from scipy.interpolate import UnivariateSpline\n",
        "def make_norm_dist(x, mean, sd):\n",
        "    return 1.0/(sd*np.sqrt(2*np.pi))*np.exp(-(x - mean)**2/(2*sd**2))\n",
        "\n",
        "x = np.linspace(10, 110, 1000)\n",
        "g = make_norm_dist(x, 50, 10)\n",
        "p = make_norm_dist(x, 60, 10)\n",
        "b = g + p   \n",
        "spline = UnivariateSpline(x, b-np.max(b)/2, s=0)\n",
        "\n",
        "import pylab as pl\n",
        "pl.plot(x, b)\n",
        "pl.show()"
      ],
      "metadata": {
        "colab": {
          "base_uri": "https://localhost:8080/",
          "height": 265
        },
        "id": "asxeiqIRD9A3",
        "outputId": "f102f163-8192-4bae-b257-d2af84cde075"
      },
      "id": "asxeiqIRD9A3",
      "execution_count": 2,
      "outputs": [
        {
          "output_type": "display_data",
          "data": {
            "text/plain": [
              "<Figure size 432x288 with 1 Axes>"
            ],
            "image/png": "[encoded data removed]"
          },
          "metadata": {
            "needs_background": "light"
          }
        }
      ]
    },
    {
      "cell_type": "markdown",
      "id": "901a6a55",
      "metadata": {
        "id": "901a6a55"
      },
      "source": [
        "## (a)\n",
        "\n",
        "Define the prior functions"
      ]
    },
    {
      "cell_type": "code",
      "execution_count": 3,
      "id": "ac224d2c",
      "metadata": {
        "id": "ac224d2c"
      },
      "outputs": [],
      "source": [
        "def uniform_prior(H):\n",
        "    if  H > 1 or H < 0:\n",
        "        return 0\n",
        "\n",
        "    return 1\n",
        "    \n",
        "first_prior = np.vectorize(uniform_prior)\n",
        "    \n",
        "\n",
        "def gaussian_prior(H):\n",
        "    if  H > 1 or H < 0:\n",
        "        return 0\n",
        "    \n",
        "    sigma = 0.03\n",
        "    mu = 0.5\n",
        "    \n",
        "    return ((1 / (np.sqrt(2 * np.pi) * sigma)) * np.exp(-0.5 * (1 / sigma * (H - mu))**2))\n",
        "\n",
        "second_prior = np.vectorize(gaussian_prior)\n",
        "\n",
        "\n",
        "def third_prior(H):\n",
        "     if  H > 1 or H < 0:\n",
        "         return 0\n",
        "     mu1 = 0\n",
        "     mu2 = 1\n",
        "     sigma = 0.02\n",
        "\n",
        "     return ((1 / (np.sqrt(2 * np.pi) * sigma)) * np.exp(-0.5 * (1 / sigma * (H - mu1))**2)) + ((1 / (np.sqrt(2 * np.pi) * sigma)) * np.exp(-0.5 * (1 / sigma * (H - mu2))**2))\n",
        "\n",
        "third_prior = np.vectorize(third_prior)"
      ]
    },
    {
      "cell_type": "markdown",
      "id": "679e9a44",
      "metadata": {
        "id": "679e9a44"
      },
      "source": [
        "### Bonus point\n",
        "\n",
        "Why do we need to use np.vectorize here?"
      ]
    },
    {
      "cell_type": "code",
      "execution_count": 4,
      "id": "652c0a19",
      "metadata": {
        "id": "652c0a19"
      },
      "outputs": [],
      "source": [
        "#Vectorization is used to speed up the Python code without using loop. Using such a function can help in minimizing the running time of code efficiently. "
      ]
    },
    {
      "cell_type": "markdown",
      "id": "cb796055",
      "metadata": {
        "id": "cb796055"
      },
      "source": [
        "## (b)\n",
        "\n",
        "Create an array for H, calculte the priors, normalize them and then plot them."
      ]
    },
    {
      "cell_type": "code",
      "execution_count": 5,
      "id": "7bd4031a",
      "metadata": {
        "id": "7bd4031a"
      },
      "outputs": [],
      "source": [
        "H = np.linspace(0, 1, 1000, dtype=np.float128)"
      ]
    },
    {
      "cell_type": "code",
      "execution_count": 6,
      "id": "2ca16052",
      "metadata": {
        "colab": {
          "base_uri": "https://localhost:8080/",
          "height": 233
        },
        "id": "2ca16052",
        "outputId": "4ecef47a-9d20-49de-9c92-2283cd2ac517"
      },
      "outputs": [
        {
          "output_type": "display_data",
          "data": {
            "text/plain": [
              "<Figure size 1080x216 with 3 Axes>"
            ],
            "image/png": "[encoded data removed]"
          },
          "metadata": {
            "needs_background": "light"
          }
        }
      ],
      "source": [
        "fig, (ax1, ax2, ax3) = plt.subplots(1, 3, figsize=(15, 3))\n",
        "plt.suptitle('Three different priors (Normalized)')\n",
        "\n",
        "ax1.plot(H, first_prior(H))\n",
        "ax2.plot(H, second_prior(H))\n",
        "ax3.plot(H, third_prior(H))\n",
        "\n",
        "\n",
        "plt.show()"
      ]
    },
    {
      "cell_type": "markdown",
      "id": "c759449a",
      "metadata": {
        "id": "c759449a"
      },
      "source": [
        "## (c)\n",
        "\n",
        "Here we explicitly declared a data type for the array H. Although most of the times python does it for us, here was an example that we need to do it by hand to avoid round-off error. Find out what this error is and write a few lines about it (In Farsi or English) and explain what did we do to avoid it here. In other words, why did we use 'np.float128' exept just using 'float'?\n",
        "\n",
        "You can also emit the data type decleration from the definition of H and see what happens in calculating the posterior."
      ]
    },
    {
      "cell_type": "code",
      "source": [
        "#np. float128 provide more precision than float. 128 bits represents large amount of data and it helps us for analysing data."
      ],
      "metadata": {
        "id": "yvXIR_wnwV6d"
      },
      "id": "yvXIR_wnwV6d",
      "execution_count": 7,
      "outputs": []
    },
    {
      "cell_type": "markdown",
      "id": "507a17d4",
      "metadata": {
        "id": "507a17d4"
      },
      "source": [
        "## (d)\n",
        "\n",
        "Write a proper function to calculate the psterior for a given data and recreate the given plot."
      ]
    },
    {
      "cell_type": "code",
      "execution_count": 8,
      "id": "464cdb0d",
      "metadata": {
        "id": "464cdb0d"
      },
      "outputs": [],
      "source": [
        "data = [np.random.choice([0, 0, 0, 0, 0, 0, 0, 1, 1, 1], size=(i)) for i in range(4)]  \n",
        "data.extend([np.random.choice([0, 0, 0, 0, 0, 0, 0, 1, 1, 1], size=(2**i)) for i in range(2, 13)])"
      ]
    },
    {
      "cell_type": "code",
      "execution_count": 9,
      "id": "8de9ec33",
      "metadata": {
        "id": "8de9ec33",
        "outputId": "5f48c147-f4b0-4f07-c33e-02e04451e890",
        "colab": {
          "base_uri": "https://localhost:8080/"
        }
      },
      "outputs": [
        {
          "output_type": "execute_result",
          "data": {
            "text/plain": [
              "[array([], dtype=int64),\n",
              " array([0]),\n",
              " array([1, 0]),\n",
              " array([1, 0, 1]),\n",
              " array([0, 0, 0, 0]),\n",
              " array([0, 1, 0, 0, 0, 0, 0, 0]),\n",
              " array([1, 1, 0, 0, 0, 0, 0, 0, 1, 0, 1, 0, 0, 0, 0, 0]),\n",
              " array([0, 0, 0, 0, 0, 1, 0, 0, 0, 0, 0, 0, 1, 1, 1, 0, 0, 0, 0, 1, 0, 0,\n",
              "        0, 0, 0, 0, 0, 0, 0, 0, 0, 1]),\n",
              " array([0, 0, 1, 0, 0, 0, 1, 1, 1, 1, 0, 0, 0, 0, 1, 1, 1, 0, 0, 1, 0, 1,\n",
              "        0, 0, 0, 0, 0, 0, 1, 0, 0, 1, 0, 0, 1, 0, 0, 1, 0, 0, 0, 0, 0, 0,\n",
              "        1, 0, 0, 0, 0, 0, 0, 0, 1, 0, 0, 0, 1, 0, 0, 0, 0, 0, 0, 1]),\n",
              " array([1, 0, 0, 1, 0, 0, 0, 0, 0, 0, 1, 0, 1, 1, 0, 1, 0, 1, 1, 0, 0, 0,\n",
              "        0, 1, 1, 0, 1, 1, 0, 1, 1, 0, 0, 0, 1, 0, 0, 0, 0, 0, 0, 0, 0, 0,\n",
              "        1, 0, 0, 1, 0, 1, 1, 1, 1, 0, 1, 1, 0, 0, 1, 1, 1, 0, 1, 0, 0, 0,\n",
              "        1, 0, 0, 0, 1, 0, 0, 1, 1, 0, 1, 0, 0, 1, 1, 0, 0, 0, 1, 0, 1, 1,\n",
              "        0, 1, 0, 0, 1, 0, 0, 0, 1, 0, 0, 0, 0, 0, 0, 0, 0, 1, 0, 0, 0, 0,\n",
              "        0, 0, 1, 0, 1, 0, 0, 0, 0, 0, 0, 0, 0, 0, 1, 1, 0, 0]),\n",
              " array([0, 0, 0, 0, 0, 0, 0, 0, 0, 0, 1, 1, 1, 1, 0, 1, 1, 1, 0, 1, 0, 0,\n",
              "        1, 1, 0, 0, 0, 0, 1, 0, 0, 0, 1, 1, 0, 1, 0, 1, 0, 0, 0, 0, 0, 0,\n",
              "        0, 0, 0, 0, 1, 1, 0, 1, 1, 0, 0, 0, 0, 1, 0, 1, 0, 0, 0, 1, 0, 0,\n",
              "        1, 1, 0, 0, 0, 0, 0, 0, 1, 0, 0, 0, 1, 0, 0, 0, 1, 1, 0, 0, 0, 1,\n",
              "        0, 0, 0, 0, 1, 1, 0, 0, 1, 1, 1, 0, 0, 0, 0, 0, 0, 1, 0, 0, 0, 0,\n",
              "        1, 1, 1, 1, 0, 0, 1, 0, 0, 0, 0, 0, 0, 1, 0, 0, 0, 0, 1, 1, 0, 0,\n",
              "        0, 0, 0, 1, 1, 0, 0, 0, 0, 1, 0, 0, 0, 0, 0, 0, 0, 1, 0, 0, 1, 0,\n",
              "        0, 0, 0, 0, 0, 1, 0, 0, 0, 0, 0, 0, 0, 0, 1, 0, 0, 0, 1, 0, 0, 0,\n",
              "        0, 0, 0, 0, 0, 1, 1, 1, 0, 0, 0, 0, 0, 1, 0, 0, 0, 0, 0, 0, 0, 0,\n",
              "        0, 0, 0, 1, 1, 1, 1, 0, 0, 1, 1, 0, 0, 0, 0, 0, 0, 0, 0, 1, 0, 0,\n",
              "        1, 0, 1, 0, 0, 0, 1, 1, 0, 0, 0, 1, 1, 0, 0, 0, 1, 1, 0, 1, 1, 0,\n",
              "        0, 1, 0, 0, 0, 1, 0, 0, 0, 0, 0, 0, 0, 0]),\n",
              " array([1, 0, 1, 0, 1, 0, 1, 0, 0, 0, 1, 0, 0, 0, 0, 1, 1, 0, 0, 1, 1, 0,\n",
              "        0, 1, 1, 1, 1, 0, 1, 0, 1, 0, 1, 0, 0, 1, 0, 1, 0, 0, 1, 1, 0, 0,\n",
              "        1, 0, 0, 0, 1, 0, 1, 0, 0, 0, 0, 0, 0, 0, 1, 0, 0, 0, 1, 0, 0, 0,\n",
              "        0, 0, 0, 0, 0, 0, 0, 0, 1, 1, 1, 0, 1, 1, 1, 0, 0, 0, 0, 1, 0, 0,\n",
              "        0, 1, 0, 0, 0, 0, 1, 0, 0, 0, 0, 0, 1, 1, 1, 1, 0, 1, 0, 0, 0, 0,\n",
              "        1, 0, 0, 0, 1, 0, 0, 0, 0, 0, 0, 0, 0, 1, 0, 1, 0, 0, 0, 0, 0, 0,\n",
              "        0, 0, 0, 0, 0, 0, 0, 0, 0, 1, 0, 0, 1, 0, 1, 0, 0, 0, 0, 0, 0, 0,\n",
              "        0, 0, 1, 1, 0, 1, 0, 1, 0, 0, 0, 0, 1, 0, 0, 0, 1, 0, 0, 0, 0, 0,\n",
              "        1, 0, 0, 0, 1, 0, 0, 0, 0, 0, 0, 1, 1, 1, 1, 1, 0, 1, 0, 0, 0, 0,\n",
              "        0, 0, 1, 0, 1, 0, 0, 0, 0, 0, 0, 0, 0, 0, 0, 0, 0, 0, 0, 0, 0, 0,\n",
              "        0, 0, 0, 0, 0, 1, 1, 0, 0, 0, 1, 0, 0, 1, 0, 0, 0, 1, 0, 1, 0, 1,\n",
              "        1, 1, 1, 0, 0, 1, 0, 0, 0, 1, 1, 1, 0, 0, 0, 0, 0, 0, 0, 0, 0, 0,\n",
              "        0, 0, 0, 0, 0, 0, 0, 0, 1, 0, 0, 1, 0, 1, 0, 1, 0, 0, 0, 0, 0, 0,\n",
              "        1, 1, 0, 1, 0, 0, 0, 0, 0, 0, 1, 1, 0, 0, 0, 1, 0, 1, 0, 0, 1, 0,\n",
              "        1, 0, 0, 0, 0, 1, 1, 0, 1, 1, 0, 0, 0, 0, 0, 1, 0, 0, 1, 0, 1, 0,\n",
              "        0, 1, 0, 0, 0, 0, 0, 0, 0, 1, 0, 1, 1, 1, 0, 0, 0, 0, 1, 1, 1, 0,\n",
              "        0, 0, 0, 0, 1, 0, 0, 0, 0, 0, 1, 1, 1, 0, 1, 0, 1, 0, 0, 1, 1, 0,\n",
              "        0, 1, 1, 0, 0, 0, 0, 0, 1, 1, 0, 0, 0, 0, 0, 0, 0, 1, 1, 1, 1, 0,\n",
              "        1, 0, 0, 0, 0, 0, 0, 0, 0, 1, 1, 0, 0, 1, 1, 0, 0, 1, 0, 1, 0, 0,\n",
              "        0, 0, 1, 1, 0, 1, 0, 0, 1, 0, 0, 0, 0, 0, 0, 1, 0, 0, 1, 0, 0, 0,\n",
              "        1, 1, 0, 0, 0, 1, 0, 1, 0, 0, 1, 0, 0, 0, 1, 1, 0, 1, 0, 0, 0, 0,\n",
              "        0, 1, 1, 1, 0, 1, 1, 0, 0, 1, 0, 0, 1, 0, 0, 0, 0, 0, 0, 0, 0, 0,\n",
              "        1, 1, 0, 1, 1, 1, 0, 0, 0, 0, 0, 1, 0, 0, 0, 0, 0, 0, 0, 1, 0, 1,\n",
              "        1, 0, 1, 0, 0, 0]),\n",
              " array([0, 0, 1, ..., 0, 0, 0]),\n",
              " array([0, 0, 1, ..., 0, 0, 0]),\n",
              " array([0, 1, 0, ..., 1, 0, 1])]"
            ]
          },
          "metadata": {},
          "execution_count": 9
        }
      ],
      "source": [
        "data"
      ]
    },
    {
      "cell_type": "code",
      "source": [
        "def posterior(prior, data , H):\n",
        "\n",
        "    def likelihood(H, data):\n",
        "        R = sum(data)\n",
        "        N = len(data)\n",
        "        return (H**R)*((1-H)**(N-R))\n",
        "\n",
        "    def priorlikelihood(H, data):\n",
        "        return prior(H)*likelihood(H, data)\n",
        "    \n",
        "    def normal(H, data):\n",
        "        dh = H[1]-H[0]\n",
        "        return sum(priorlikelihood(H[:-1], data))*dh\n",
        "\n",
        "    return priorlikelihood(H, data)/normal(H, data)"
      ],
      "metadata": {
        "id": "eiT-OP34FINn"
      },
      "id": "eiT-OP34FINn",
      "execution_count": 14,
      "outputs": []
    },
    {
      "cell_type": "code",
      "source": [
        "fig, axs = plt.subplots(5, 3, figsize= (15,15))\n",
        "for i in range(15):\n",
        "    for j in [first_prior , second_prior, third_prior]:\n",
        "        axs.flatten()[i].plot(H, posterior(j, data[i], H))\n",
        "        axs.flatten()[i].text(1,1, str(len(data[i])))\n",
        "\n",
        "plt.tight_layout(h_pad=3)\n",
        "plt.show()"
      ],
      "metadata": {
        "colab": {
          "base_uri": "https://localhost:8080/",
          "height": 1000
        },
        "id": "H73pGGWf_y8Y",
        "outputId": "b9c5603a-c643-4c84-e056-91ff3aa6b1ce"
      },
      "id": "H73pGGWf_y8Y",
      "execution_count": 16,
      "outputs": [
        {
          "output_type": "display_data",
          "data": {
            "text/plain": [
              "<Figure size 1080x1080 with 15 Axes>"
            ],
            "image/png": "[encoded data removed]"
          },
          "metadata": {
            "needs_background": "light"
          }
        }
      ]
    },
    {
      "cell_type": "markdown",
      "id": "7fe4e917",
      "metadata": {
        "id": "7fe4e917"
      },
      "source": [
        "# Q2: Distributions and moments"
      ]
    },
    {
      "cell_type": "markdown",
      "id": "22528f29",
      "metadata": {
        "id": "22528f29"
      },
      "source": [
        "## (a)\n",
        "\n",
        "Write a function to calculate raw moments of a given distribution "
      ]
    },
    {
      "cell_type": "code",
      "execution_count": 17,
      "id": "0ca8f424",
      "metadata": {
        "id": "0ca8f424"
      },
      "outputs": [],
      "source": [
        "def raw_moment(x, r = 1):\n",
        "    n = len(x)\n",
        "    return (sum(i**r for i in x))/n\n",
        "    \n"
      ]
    },
    {
      "cell_type": "markdown",
      "id": "83e7a025",
      "metadata": {
        "id": "83e7a025"
      },
      "source": [
        "## (b)\n",
        "\n",
        "Write a function to calculate central moments of a given distribution"
      ]
    },
    {
      "cell_type": "code",
      "execution_count": 18,
      "id": "e95d8546",
      "metadata": {
        "id": "e95d8546"
      },
      "outputs": [],
      "source": [
        "def central_moment(x, r = 1):\n",
        "    xbar = x.mean()\n",
        "    n = len(x)\n",
        "    return (sum((i-xbar)**r for i in x))/n"
      ]
    },
    {
      "cell_type": "markdown",
      "id": "c922c313",
      "metadata": {
        "id": "c922c313"
      },
      "source": [
        "## (c)\n",
        "\n",
        "Using numpy.random, create a binomial (p=0.7, n=$30$), a Poisson ($\\mu$ = 2.1) and a gaussian ($\\mu$ = 2.1, $\\sigma = 0.3$) distribution with size $10^6$ and calculate their first 3 raw and central moments"
      ]
    },
    {
      "cell_type": "code",
      "execution_count": 19,
      "id": "d8a9b33d",
      "metadata": {
        "id": "d8a9b33d"
      },
      "outputs": [],
      "source": [
        "binomial = np.random.binomial(30, 0.7, 10**6)\n",
        "poisson = np.random.poisson(2.1, 10**6)\n",
        "gaussian = np.random.normal(2.1 , 0.3 , 10**6)\n"
      ]
    },
    {
      "cell_type": "code",
      "execution_count": 20,
      "id": "1ff4ee9e",
      "metadata": {
        "id": "1ff4ee9e",
        "outputId": "f16a49ec-5268-4f8f-f21d-9a8cd53379d9",
        "colab": {
          "base_uri": "https://localhost:8080/"
        }
      },
      "outputs": [
        {
          "output_type": "stream",
          "name": "stdout",
          "text": [
            "raw moment 1 : 20.998728\n",
            "raw moment 1 : 2.101495\n",
            "raw moment 1 : 2.0993961464846875\n",
            "raw moment 2 : 447.23963\n",
            "raw moment 2 : 6.521311\n",
            "raw moment 2 : 4.497542905096264\n",
            "raw moment 3 : 9653.236686\n",
            "raw moment 3 : 24.670945\n",
            "raw moment 3 : 9.820505263471658\n"
          ]
        }
      ],
      "source": [
        "for i in range (1,4):\n",
        "    for j in [binomial, poisson, gaussian]:\n",
        "        print('raw moment', i, ':' , raw_moment(j, i))"
      ]
    },
    {
      "cell_type": "code",
      "execution_count": 21,
      "id": "4d069e59",
      "metadata": {
        "id": "4d069e59",
        "outputId": "2b56353c-bef7-452f-c61f-459c0c81cb0d",
        "colab": {
          "base_uri": "https://localhost:8080/"
        }
      },
      "outputs": [
        {
          "output_type": "stream",
          "name": "stdout",
          "text": [
            "Central Moment 1 : -2.4309457558047143e-14\n",
            "Central Moment 1 : 2.912622676376486e-14\n",
            "Central Moment 1 : 9.111233989500534e-16\n",
            "Central Moment 2 : 6.29305238198701\n",
            "Central Moment 2 : 2.1050297649837346\n",
            "Central Moment 2 : 0.09007872522153482\n",
            "Central Moment 3 : -2.518845710057515\n",
            "Central Moment 3 : 2.119023488186508\n",
            "Central Moment 3 : 0.0001591626422624023\n"
          ]
        }
      ],
      "source": [
        "for i in range (1,4):\n",
        "    for j in [binomial, poisson, gaussian]:\n",
        "        print('Central Moment', i, ':' , central_moment(j, i))"
      ]
    },
    {
      "cell_type": "markdown",
      "id": "0612b1f0",
      "metadata": {
        "id": "0612b1f0"
      },
      "source": [
        "## (d)\n",
        "\n",
        "Using scipy.stats, calculate the first three moments of these distributions and check with the results from your own function. What does the function in scipy calculate? Raw moments or central moments?"
      ]
    },
    {
      "cell_type": "code",
      "execution_count": 23,
      "id": "3bc32c61",
      "metadata": {
        "id": "3bc32c61",
        "outputId": "d429299b-8f57-4c4f-8049-8ae0a9664e90",
        "colab": {
          "base_uri": "https://localhost:8080/"
        }
      },
      "outputs": [
        {
          "output_type": "stream",
          "name": "stdout",
          "text": [
            "0.0\n",
            "0.0\n",
            "0.0\n",
            "6.293052382016\n",
            "2.105029764975\n",
            "0.0900787252215322\n",
            "-2.518845710052147\n",
            "2.1190234881627257\n",
            "0.00015916264226239495\n"
          ]
        }
      ],
      "source": [
        "for i in range (1,4):\n",
        "    for j in [binomial, poisson, gaussian]:\n",
        "        print(stats.moment(j,i))"
      ]
    },
    {
      "cell_type": "markdown",
      "id": "6a6e1b2a",
      "metadata": {
        "id": "6a6e1b2a"
      },
      "source": [
        "# Q3: Radioactive decay"
      ]
    },
    {
      "cell_type": "markdown",
      "id": "59bad283",
      "metadata": {
        "id": "59bad283"
      },
      "source": [
        "The Poisson distribution is often used to describe situations in which an event occurs repeatedly at a constant rate of probability. An application of this distribution involves the decay of radioactive samples, but only in the approximation that the decay rate is slow enough that depletion in the population of the decaying species can be neglected.\n",
        "\n",
        "Now suppose we have a data set showing the number of $\\alpha$ particles emmited in 7.5 sec intervals:"
      ]
    },
    {
      "cell_type": "markdown",
      "id": "240168cb",
      "metadata": {
        "id": "240168cb"
      },
      "source": [
        "## (a)\n",
        "\n",
        "Load the provided data into a pandas data frame and show the data and then plot it's PDF."
      ]
    },
    {
      "cell_type": "code",
      "execution_count": 24,
      "id": "c80b7a07",
      "metadata": {
        "id": "c80b7a07",
        "outputId": "5e73b42a-e45a-4177-b793-b18b6ca7b771",
        "colab": {
          "base_uri": "https://localhost:8080/",
          "height": 424
        }
      },
      "outputs": [
        {
          "output_type": "execute_result",
          "data": {
            "text/plain": [
              "      # time passed  number of events\n",
              "0               7.5             232.0\n",
              "1              15.0             240.0\n",
              "2              22.5             245.0\n",
              "3              30.0             226.0\n",
              "4              37.5             223.0\n",
              "...             ...               ...\n",
              "2043        15330.0             265.0\n",
              "2044        15337.5             220.0\n",
              "2045        15345.0             252.0\n",
              "2046        15352.5             229.0\n",
              "2047        15360.0             214.0\n",
              "\n",
              "[2048 rows x 2 columns]"
            ],
            "text/html": [
              "\n",
              "  <div id=\"df-f7be8b76-57c2-4a23-83cf-bfd944f5419e\">\n",
              "    <div class=\"colab-df-container\">\n",
              "      <div>\n",
              "<style scoped>\n",
              "    .dataframe tbody tr th:only-of-type {\n",
              "        vertical-align: middle;\n",
              "    }\n",
              "\n",
              "    .dataframe tbody tr th {\n",
              "        vertical-align: top;\n",
              "    }\n",
              "\n",
              "    .dataframe thead th {\n",
              "        text-align: right;\n",
              "    }\n",
              "</style>\n",
              "<table border=\"1\" class=\"dataframe\">\n",
              "  <thead>\n",
              "    <tr style=\"text-align: right;\">\n",
              "      <th></th>\n",
              "      <th># time passed</th>\n",
              "      <th>number of events</th>\n",
              "    </tr>\n",
              "  </thead>\n",
              "  <tbody>\n",
              "    <tr>\n",
              "      <th>0</th>\n",
              "      <td>7.5</td>\n",
              "      <td>232.0</td>\n",
              "    </tr>\n",
              "    <tr>\n",
              "      <th>1</th>\n",
              "      <td>15.0</td>\n",
              "      <td>240.0</td>\n",
              "    </tr>\n",
              "    <tr>\n",
              "      <th>2</th>\n",
              "      <td>22.5</td>\n",
              "      <td>245.0</td>\n",
              "    </tr>\n",
              "    <tr>\n",
              "      <th>3</th>\n",
              "      <td>30.0</td>\n",
              "      <td>226.0</td>\n",
              "    </tr>\n",
              "    <tr>\n",
              "      <th>4</th>\n",
              "      <td>37.5</td>\n",
              "      <td>223.0</td>\n",
              "    </tr>\n",
              "    <tr>\n",
              "      <th>...</th>\n",
              "      <td>...</td>\n",
              "      <td>...</td>\n",
              "    </tr>\n",
              "    <tr>\n",
              "      <th>2043</th>\n",
              "      <td>15330.0</td>\n",
              "      <td>265.0</td>\n",
              "    </tr>\n",
              "    <tr>\n",
              "      <th>2044</th>\n",
              "      <td>15337.5</td>\n",
              "      <td>220.0</td>\n",
              "    </tr>\n",
              "    <tr>\n",
              "      <th>2045</th>\n",
              "      <td>15345.0</td>\n",
              "      <td>252.0</td>\n",
              "    </tr>\n",
              "    <tr>\n",
              "      <th>2046</th>\n",
              "      <td>15352.5</td>\n",
              "      <td>229.0</td>\n",
              "    </tr>\n",
              "    <tr>\n",
              "      <th>2047</th>\n",
              "      <td>15360.0</td>\n",
              "      <td>214.0</td>\n",
              "    </tr>\n",
              "  </tbody>\n",
              "</table>\n",
              "<p>2048 rows × 2 columns</p>\n",
              "</div>\n",
              "      <button class=\"colab-df-convert\" onclick=\"convertToInteractive('df-f7be8b76-57c2-4a23-83cf-bfd944f5419e')\"\n",
              "              title=\"Convert this dataframe to an interactive table.\"\n",
              "              style=\"display:none;\">\n",
              "        \n",
              "  <svg xmlns=\"http://www.w3.org/2000/svg\" height=\"24px\"viewBox=\"0 0 24 24\"\n",
              "       width=\"24px\">\n",
              "    <path d=\"M0 0h24v24H0V0z\" fill=\"none\"/>\n",
              "    <path d=\"M18.56 5.44l.94 2.06.94-2.06 2.06-.94-2.06-.94-.94-2.06-.94 2.06-2.06.94zm-11 1L8.5 8.5l.94-2.06 2.06-.94-2.06-.94L8.5 2.5l-.94 2.06-2.06.94zm10 10l.94 2.06.94-2.06 2.06-.94-2.06-.94-.94-2.06-.94 2.06-2.06.94z\"/><path d=\"M17.41 7.96l-1.37-1.37c-.4-.4-.92-.59-1.43-.59-.52 0-1.04.2-1.43.59L10.3 9.45l-7.72 7.72c-.78.78-.78 2.05 0 2.83L4 21.41c.39.39.9.59 1.41.59.51 0 1.02-.2 1.41-.59l7.78-7.78 2.81-2.81c.8-.78.8-2.07 0-2.86zM5.41 20L4 18.59l7.72-7.72 1.47 1.35L5.41 20z\"/>\n",
              "  </svg>\n",
              "      </button>\n",
              "      \n",
              "  <style>\n",
              "    .colab-df-container {\n",
              "      display:flex;\n",
              "      flex-wrap:wrap;\n",
              "      gap: 12px;\n",
              "    }\n",
              "\n",
              "    .colab-df-convert {\n",
              "      background-color: #E8F0FE;\n",
              "      border: none;\n",
              "      border-radius: 50%;\n",
              "      cursor: pointer;\n",
              "      display: none;\n",
              "      fill: #1967D2;\n",
              "      height: 32px;\n",
              "      padding: 0 0 0 0;\n",
              "      width: 32px;\n",
              "    }\n",
              "\n",
              "    .colab-df-convert:hover {\n",
              "      background-color: #E2EBFA;\n",
              "      box-shadow: 0px 1px 2px rgba(60, 64, 67, 0.3), 0px 1px 3px 1px rgba(60, 64, 67, 0.15);\n",
              "      fill: #174EA6;\n",
              "    }\n",
              "\n",
              "    [theme=dark] .colab-df-convert {\n",
              "      background-color: #3B4455;\n",
              "      fill: #D2E3FC;\n",
              "    }\n",
              "\n",
              "    [theme=dark] .colab-df-convert:hover {\n",
              "      background-color: #434B5C;\n",
              "      box-shadow: 0px 1px 3px 1px rgba(0, 0, 0, 0.15);\n",
              "      filter: drop-shadow(0px 1px 2px rgba(0, 0, 0, 0.3));\n",
              "      fill: #FFFFFF;\n",
              "    }\n",
              "  </style>\n",
              "\n",
              "      <script>\n",
              "        const buttonEl =\n",
              "          document.querySelector('#df-f7be8b76-57c2-4a23-83cf-bfd944f5419e button.colab-df-convert');\n",
              "        buttonEl.style.display =\n",
              "          google.colab.kernel.accessAllowed ? 'block' : 'none';\n",
              "\n",
              "        async function convertToInteractive(key) {\n",
              "          const element = document.querySelector('#df-f7be8b76-57c2-4a23-83cf-bfd944f5419e');\n",
              "          const dataTable =\n",
              "            await google.colab.kernel.invokeFunction('convertToInteractive',\n",
              "                                                     [key], {});\n",
              "          if (!dataTable) return;\n",
              "\n",
              "          const docLinkHtml = 'Like what you see? Visit the ' +\n",
              "            '<a target=\"_blank\" href=https://colab.research.google.com/notebooks/data_table.ipynb>data table notebook</a>'\n",
              "            + ' to learn more about interactive tables.';\n",
              "          element.innerHTML = '';\n",
              "          dataTable['output_type'] = 'display_data';\n",
              "          await google.colab.output.renderOutput(dataTable, element);\n",
              "          const docLink = document.createElement('div');\n",
              "          docLink.innerHTML = docLinkHtml;\n",
              "          element.appendChild(docLink);\n",
              "        }\n",
              "      </script>\n",
              "    </div>\n",
              "  </div>\n",
              "  "
            ]
          },
          "metadata": {},
          "execution_count": 24
        }
      ],
      "source": [
        "data = pd.read_csv(\"/data.txt\", sep=('\t'))\n",
        "data"
      ]
    },
    {
      "cell_type": "code",
      "execution_count": 25,
      "id": "dea19e2d",
      "metadata": {
        "id": "dea19e2d",
        "outputId": "277016ac-1937-48a2-a826-c111d8469161",
        "colab": {
          "base_uri": "https://localhost:8080/",
          "height": 387
        }
      },
      "outputs": [
        {
          "output_type": "execute_result",
          "data": {
            "text/plain": [
              "<seaborn.axisgrid.FacetGrid at 0x7ff840dd63d0>"
            ]
          },
          "metadata": {},
          "execution_count": 25
        },
        {
          "output_type": "display_data",
          "data": {
            "text/plain": [
              "<Figure size 360x360 with 1 Axes>"
            ],
            "image/png": "[encoded data removed]"
          },
          "metadata": {
            "needs_background": "light"
          }
        }
      ],
      "source": [
        "sns.displot(data['number of events'], kde = True)"
      ]
    },
    {
      "cell_type": "code",
      "execution_count": 26,
      "id": "9bdead89",
      "metadata": {
        "id": "9bdead89",
        "outputId": "5e7036b2-b2f6-4cd7-a998-72e8879af6a8",
        "colab": {
          "base_uri": "https://localhost:8080/",
          "height": 284
        }
      },
      "outputs": [
        {
          "output_type": "execute_result",
          "data": {
            "text/plain": [
              "[<matplotlib.lines.Line2D at 0x7ff83dca8d10>]"
            ]
          },
          "metadata": {},
          "execution_count": 26
        },
        {
          "output_type": "display_data",
          "data": {
            "text/plain": [
              "<Figure size 432x288 with 1 Axes>"
            ],
            "image/png": "[encoded data removed]"
          },
          "metadata": {
            "needs_background": "light"
          }
        }
      ],
      "source": [
        "plt.plot(data['# time passed'], data['number of events'].sort_values(), 'o')"
      ]
    },
    {
      "cell_type": "markdown",
      "id": "2a2aa787",
      "metadata": {
        "id": "2a2aa787"
      },
      "source": [
        "## (b)\n",
        "\n",
        "Calculate total number of decays and the average number of decays after each time interval. Then add the data to the Pandas DataFrame and show it. Then save the data to file 'new_data.txt'."
      ]
    },
    {
      "cell_type": "code",
      "execution_count": 27,
      "id": "0740a45a",
      "metadata": {
        "id": "0740a45a",
        "outputId": "4bf4fc35-2d78-4a1d-bff3-14cc10c53559",
        "colab": {
          "base_uri": "https://localhost:8080/",
          "height": 424
        }
      },
      "outputs": [
        {
          "output_type": "execute_result",
          "data": {
            "text/plain": [
              "      # time passed  number of events  total number  average number\n",
              "0               7.5             232.0         232.0       30.933333\n",
              "1              15.0             240.0         472.0       62.933333\n",
              "2              22.5             245.0         717.0       95.600000\n",
              "3              30.0             226.0         943.0      125.733333\n",
              "4              37.5             223.0        1166.0      155.466667\n",
              "...             ...               ...           ...             ...\n",
              "2043        15330.0             265.0      484278.0    64570.400000\n",
              "2044        15337.5             220.0      484498.0    64599.733333\n",
              "2045        15345.0             252.0      484750.0    64633.333333\n",
              "2046        15352.5             229.0      484979.0    64663.866667\n",
              "2047        15360.0             214.0      485193.0    64692.400000\n",
              "\n",
              "[2048 rows x 4 columns]"
            ],
            "text/html": [
              "\n",
              "  <div id=\"df-4d93091f-1673-4d4e-853b-b4122c107e02\">\n",
              "    <div class=\"colab-df-container\">\n",
              "      <div>\n",
              "<style scoped>\n",
              "    .dataframe tbody tr th:only-of-type {\n",
              "        vertical-align: middle;\n",
              "    }\n",
              "\n",
              "    .dataframe tbody tr th {\n",
              "        vertical-align: top;\n",
              "    }\n",
              "\n",
              "    .dataframe thead th {\n",
              "        text-align: right;\n",
              "    }\n",
              "</style>\n",
              "<table border=\"1\" class=\"dataframe\">\n",
              "  <thead>\n",
              "    <tr style=\"text-align: right;\">\n",
              "      <th></th>\n",
              "      <th># time passed</th>\n",
              "      <th>number of events</th>\n",
              "      <th>total number</th>\n",
              "      <th>average number</th>\n",
              "    </tr>\n",
              "  </thead>\n",
              "  <tbody>\n",
              "    <tr>\n",
              "      <th>0</th>\n",
              "      <td>7.5</td>\n",
              "      <td>232.0</td>\n",
              "      <td>232.0</td>\n",
              "      <td>30.933333</td>\n",
              "    </tr>\n",
              "    <tr>\n",
              "      <th>1</th>\n",
              "      <td>15.0</td>\n",
              "      <td>240.0</td>\n",
              "      <td>472.0</td>\n",
              "      <td>62.933333</td>\n",
              "    </tr>\n",
              "    <tr>\n",
              "      <th>2</th>\n",
              "      <td>22.5</td>\n",
              "      <td>245.0</td>\n",
              "      <td>717.0</td>\n",
              "      <td>95.600000</td>\n",
              "    </tr>\n",
              "    <tr>\n",
              "      <th>3</th>\n",
              "      <td>30.0</td>\n",
              "      <td>226.0</td>\n",
              "      <td>943.0</td>\n",
              "      <td>125.733333</td>\n",
              "    </tr>\n",
              "    <tr>\n",
              "      <th>4</th>\n",
              "      <td>37.5</td>\n",
              "      <td>223.0</td>\n",
              "      <td>1166.0</td>\n",
              "      <td>155.466667</td>\n",
              "    </tr>\n",
              "    <tr>\n",
              "      <th>...</th>\n",
              "      <td>...</td>\n",
              "      <td>...</td>\n",
              "      <td>...</td>\n",
              "      <td>...</td>\n",
              "    </tr>\n",
              "    <tr>\n",
              "      <th>2043</th>\n",
              "      <td>15330.0</td>\n",
              "      <td>265.0</td>\n",
              "      <td>484278.0</td>\n",
              "      <td>64570.400000</td>\n",
              "    </tr>\n",
              "    <tr>\n",
              "      <th>2044</th>\n",
              "      <td>15337.5</td>\n",
              "      <td>220.0</td>\n",
              "      <td>484498.0</td>\n",
              "      <td>64599.733333</td>\n",
              "    </tr>\n",
              "    <tr>\n",
              "      <th>2045</th>\n",
              "      <td>15345.0</td>\n",
              "      <td>252.0</td>\n",
              "      <td>484750.0</td>\n",
              "      <td>64633.333333</td>\n",
              "    </tr>\n",
              "    <tr>\n",
              "      <th>2046</th>\n",
              "      <td>15352.5</td>\n",
              "      <td>229.0</td>\n",
              "      <td>484979.0</td>\n",
              "      <td>64663.866667</td>\n",
              "    </tr>\n",
              "    <tr>\n",
              "      <th>2047</th>\n",
              "      <td>15360.0</td>\n",
              "      <td>214.0</td>\n",
              "      <td>485193.0</td>\n",
              "      <td>64692.400000</td>\n",
              "    </tr>\n",
              "  </tbody>\n",
              "</table>\n",
              "<p>2048 rows × 4 columns</p>\n",
              "</div>\n",
              "      <button class=\"colab-df-convert\" onclick=\"convertToInteractive('df-4d93091f-1673-4d4e-853b-b4122c107e02')\"\n",
              "              title=\"Convert this dataframe to an interactive table.\"\n",
              "              style=\"display:none;\">\n",
              "        \n",
              "  <svg xmlns=\"http://www.w3.org/2000/svg\" height=\"24px\"viewBox=\"0 0 24 24\"\n",
              "       width=\"24px\">\n",
              "    <path d=\"M0 0h24v24H0V0z\" fill=\"none\"/>\n",
              "    <path d=\"M18.56 5.44l.94 2.06.94-2.06 2.06-.94-2.06-.94-.94-2.06-.94 2.06-2.06.94zm-11 1L8.5 8.5l.94-2.06 2.06-.94-2.06-.94L8.5 2.5l-.94 2.06-2.06.94zm10 10l.94 2.06.94-2.06 2.06-.94-2.06-.94-.94-2.06-.94 2.06-2.06.94z\"/><path d=\"M17.41 7.96l-1.37-1.37c-.4-.4-.92-.59-1.43-.59-.52 0-1.04.2-1.43.59L10.3 9.45l-7.72 7.72c-.78.78-.78 2.05 0 2.83L4 21.41c.39.39.9.59 1.41.59.51 0 1.02-.2 1.41-.59l7.78-7.78 2.81-2.81c.8-.78.8-2.07 0-2.86zM5.41 20L4 18.59l7.72-7.72 1.47 1.35L5.41 20z\"/>\n",
              "  </svg>\n",
              "      </button>\n",
              "      \n",
              "  <style>\n",
              "    .colab-df-container {\n",
              "      display:flex;\n",
              "      flex-wrap:wrap;\n",
              "      gap: 12px;\n",
              "    }\n",
              "\n",
              "    .colab-df-convert {\n",
              "      background-color: #E8F0FE;\n",
              "      border: none;\n",
              "      border-radius: 50%;\n",
              "      cursor: pointer;\n",
              "      display: none;\n",
              "      fill: #1967D2;\n",
              "      height: 32px;\n",
              "      padding: 0 0 0 0;\n",
              "      width: 32px;\n",
              "    }\n",
              "\n",
              "    .colab-df-convert:hover {\n",
              "      background-color: #E2EBFA;\n",
              "      box-shadow: 0px 1px 2px rgba(60, 64, 67, 0.3), 0px 1px 3px 1px rgba(60, 64, 67, 0.15);\n",
              "      fill: #174EA6;\n",
              "    }\n",
              "\n",
              "    [theme=dark] .colab-df-convert {\n",
              "      background-color: #3B4455;\n",
              "      fill: #D2E3FC;\n",
              "    }\n",
              "\n",
              "    [theme=dark] .colab-df-convert:hover {\n",
              "      background-color: #434B5C;\n",
              "      box-shadow: 0px 1px 3px 1px rgba(0, 0, 0, 0.15);\n",
              "      filter: drop-shadow(0px 1px 2px rgba(0, 0, 0, 0.3));\n",
              "      fill: #FFFFFF;\n",
              "    }\n",
              "  </style>\n",
              "\n",
              "      <script>\n",
              "        const buttonEl =\n",
              "          document.querySelector('#df-4d93091f-1673-4d4e-853b-b4122c107e02 button.colab-df-convert');\n",
              "        buttonEl.style.display =\n",
              "          google.colab.kernel.accessAllowed ? 'block' : 'none';\n",
              "\n",
              "        async function convertToInteractive(key) {\n",
              "          const element = document.querySelector('#df-4d93091f-1673-4d4e-853b-b4122c107e02');\n",
              "          const dataTable =\n",
              "            await google.colab.kernel.invokeFunction('convertToInteractive',\n",
              "                                                     [key], {});\n",
              "          if (!dataTable) return;\n",
              "\n",
              "          const docLinkHtml = 'Like what you see? Visit the ' +\n",
              "            '<a target=\"_blank\" href=https://colab.research.google.com/notebooks/data_table.ipynb>data table notebook</a>'\n",
              "            + ' to learn more about interactive tables.';\n",
              "          element.innerHTML = '';\n",
              "          dataTable['output_type'] = 'display_data';\n",
              "          await google.colab.output.renderOutput(dataTable, element);\n",
              "          const docLink = document.createElement('div');\n",
              "          docLink.innerHTML = docLinkHtml;\n",
              "          element.appendChild(docLink);\n",
              "        }\n",
              "      </script>\n",
              "    </div>\n",
              "  </div>\n",
              "  "
            ]
          },
          "metadata": {},
          "execution_count": 27
        }
      ],
      "source": [
        "data['total number'] = [sum(data['number of events'][:i]) for i in range(1, 2049)]\n",
        "data['average number'] = data['total number']/7.5\n",
        "data"
      ]
    },
    {
      "cell_type": "code",
      "execution_count": 28,
      "id": "b15c8266",
      "metadata": {
        "id": "b15c8266"
      },
      "outputs": [],
      "source": [
        "data.to_csv('new_data.txt')"
      ]
    },
    {
      "cell_type": "markdown",
      "id": "ee6121a6",
      "metadata": {
        "id": "ee6121a6"
      },
      "source": [
        "## (c)\n",
        "\n",
        "Use a unifor prior and do the same analysis as question 1 to get the mean decay number per interval. Plot the diagrams as well. (Beware that this time we have a Poisson distribution rather than a binomial one)"
      ]
    },
    {
      "cell_type": "code",
      "execution_count": 29,
      "id": "83017207",
      "metadata": {
        "id": "83017207"
      },
      "outputs": [],
      "source": [
        "def uniform_prior(H):\n",
        "    if H<0 or H>50:\n",
        "       return 0 \n",
        "    return 1\n",
        "priorx = np.vectorize(uniform_prior)"
      ]
    },
    {
      "cell_type": "markdown",
      "id": "bba68702",
      "metadata": {
        "id": "bba68702"
      },
      "source": [
        "## (d)\n",
        "\n",
        "Use two different priors of your choise and repeat the analysis. Which of these three priors leads to an answer sooner?"
      ]
    },
    {
      "cell_type": "code",
      "execution_count": 29,
      "id": "00b2f202",
      "metadata": {
        "id": "00b2f202"
      },
      "outputs": [],
      "source": [
        ""
      ]
    },
    {
      "cell_type": "markdown",
      "id": "6509b5b9",
      "metadata": {
        "id": "6509b5b9"
      },
      "source": [
        "## (e)\n",
        "\n",
        "Now that you have the average decay per time interval, calculate the half life of this radioactive element (Suppose that the sample is large enough not to lose a noticable fraction of the particles in the span of the experiment). Can find out what this element is?"
      ]
    },
    {
      "cell_type": "code",
      "execution_count": 29,
      "id": "b5162aec",
      "metadata": {
        "id": "b5162aec"
      },
      "outputs": [],
      "source": [
        ""
      ]
    },
    {
      "cell_type": "markdown",
      "id": "21e7e952",
      "metadata": {
        "id": "21e7e952"
      },
      "source": [
        "# Bonus question\n",
        "\n",
        "Do an error analysis and report how sure are you about the number you derived for the half life of the element."
      ]
    },
    {
      "cell_type": "code",
      "execution_count": 29,
      "id": "6ea6cd7a",
      "metadata": {
        "id": "6ea6cd7a"
      },
      "outputs": [],
      "source": [
        ""
      ]
    }
  ],
  "metadata": {
    "kernelspec": {
      "display_name": "Python 3 (ipykernel)",
      "language": "python",
      "name": "python3"
    },
    "language_info": {
      "codemirror_mode": {
        "name": "ipython",
        "version": 3
      },
      "file_extension": ".py",
      "mimetype": "text/x-python",
      "name": "python",
      "nbconvert_exporter": "python",
      "pygments_lexer": "ipython3",
      "version": "3.8.10"
    },
    "colab": {
      "name": "Set_03.ipynb",
      "provenance": [],
      "collapsed_sections": []
    }
  },
  "nbformat": 4,
  "nbformat_minor": 5
}